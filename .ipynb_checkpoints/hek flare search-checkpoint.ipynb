{
 "cells": [
  {
   "cell_type": "markdown",
   "metadata": {},
   "source": [
    "### Searching hek for Cycle 24 flares"
   ]
  },
  {
   "cell_type": "code",
   "execution_count": 1,
   "metadata": {},
   "outputs": [],
   "source": [
    "import numpy as np\n",
    "import matplotlib.pyplot as plt\n",
    "from sunpy.timeseries import TimeSeries\n",
    "from sunpy.time import TimeRange, parse_time\n",
    "from sunpy.net import hek\n",
    "from sunpy.instr import goes\n",
    "\n",
    "%matplotlib inline"
   ]
  },
  {
   "cell_type": "code",
   "execution_count": 2,
   "metadata": {},
   "outputs": [],
   "source": [
    "# Just some plotting setup - need stix installed \n",
    "plt.rcParams['mathtext.fontset'] = 'stix'\n",
    "plt.rcParams['font.size'] = 20\n",
    "plt.rcParams['font.family'] = 'STIXGeneral'"
   ]
  },
  {
   "cell_type": "code",
   "execution_count": 3,
   "metadata": {},
   "outputs": [],
   "source": [
    "# Assume Cycle 24 is June 2008 to 2019\n",
    "tr = TimeRange(['2008-06-01 00:00', '2019-06-01 00:00'])"
   ]
  },
  {
   "cell_type": "code",
   "execution_count": 4,
   "metadata": {},
   "outputs": [],
   "source": [
    "# Start the hek client\n",
    "client = hek.HEKClient()"
   ]
  },
  {
   "cell_type": "code",
   "execution_count": 5,
   "metadata": {},
   "outputs": [
    {
     "name": "stdout",
     "output_type": "stream",
     "text": [
      "SWPC\n",
      "SSW Latest Events\n",
      "GOES\n"
     ]
    }
   ],
   "source": [
    "#  Want to search different sources\n",
    "fl_src=['SWPC','SSW Latest Events']\n",
    "#  For all C, M, X flares (can take a while to run if doing >C1)\n",
    "cls_lim='C1'\n",
    "for fsrc in fl_src:\n",
    "    print(fsrc)\n",
    "    result = client.search( hek.attrs.Time(tr.start, tr.end), hek.attrs.FL, \\\n",
    "                       hek.attrs.FRM.Name == fsrc,hek.attrs.FL.GOESCls > cls_lim)\n",
    "    # Pull out the bits we need and convert to appropriate format\n",
    "    peak_time=parse_time(result[\"event_peaktime\"]).decimalyear\n",
    "    goes_flux=[]\n",
    "    for event in result[\"fl_goescls\"]:\n",
    "        goes_flux.append(goes.flareclass_to_flux(event).value)\n",
    "    goes_flux=np.array(goes_flux)\n",
    "    lon=result[\"event_coord1\"]\n",
    "    lat=result[\"event_coord2\"]\n",
    "    # Save it out\n",
    "    np.savez('data/fl_'+fsrc.replace(\" \",\"\")+'.npz',peak_time=peak_time,goes_flux=goes_flux,lon=lon,lat=lat)\n",
    "    \n",
    "# Search the GOES list  separately as different attrs\n",
    "# Can do similar via sunpy.instr.goes.get_goes_event_list but does hek search with fewer controls\n",
    "print('GOES')\n",
    "result = client.search( hek.attrs.Time(tr.start, tr.end), hek.attrs.FL, \\\n",
    "                       hek.attrs.OBS.Observatory == 'GOES',hek.attrs.FL.GOESCls > cls_lim)\n",
    "# Pull out the bits we need and convert to appropriate format\n",
    "peak_time=parse_time(result[\"event_peaktime\"]).decimalyear\n",
    "goes_flux=[]\n",
    "for event in result[\"fl_goescls\"]:\n",
    "    goes_flux.append(goes.flareclass_to_flux(event).value)\n",
    "goes_flux=np.array(goes_flux)\n",
    "lon=result[\"event_coord1\"]\n",
    "lat=result[\"event_coord2\"]\n",
    "# Save it out\n",
    "np.savez('data/fl_GOES.npz',peak_time=peak_time,goes_flux=goes_flux,lon=lon,lat=lat)    \n"
   ]
  },
  {
   "cell_type": "code",
   "execution_count": 7,
   "metadata": {},
   "outputs": [
    {
     "name": "stdout",
     "output_type": "stream",
     "text": [
      "SWPC\n",
      "Number of C-Class:  7882\n",
      "Number of M-Class:  755\n",
      "Number of X-Class:  44\n",
      "SSW Latest Events\n",
      "Number of C-Class:  7163\n",
      "Number of M-Class:  711\n",
      "Number of X-Class:  37\n",
      "GOES\n",
      "Number of C-Class:  7906\n",
      "Number of M-Class:  758\n",
      "Number of X-Class:  45\n"
     ]
    }
   ],
   "source": [
    "# How many flares?\n",
    "fl_src=['SWPC','SSW Latest Events','GOES']\n",
    "for f in fl_src:\n",
    "    fll = np.load('data/fl_'+f.replace(\" \",\"\")+'.npz')\n",
    "    print(f)\n",
    "    c_ind=np.argwhere((fll['goes_flux'] >= 1e-6) & (fll['goes_flux'] < 1e-5)).flatten()\n",
    "    m_ind=np.argwhere((fll['goes_flux'] >= 1e-5) & (fll['goes_flux'] < 1e-4)).flatten()\n",
    "    x_ind=np.argwhere(fll['goes_flux'] > 1e-4)\n",
    "    print('Number of C-Class: ',len(c_ind))\n",
    "    print('Number of M-Class: ',len(m_ind))\n",
    "    print('Number of X-Class: ',len(x_ind))\n"
   ]
  },
  {
   "cell_type": "code",
   "execution_count": null,
   "metadata": {},
   "outputs": [],
   "source": []
  }
 ],
 "metadata": {
  "kernelspec": {
   "display_name": "Python 3",
   "language": "python",
   "name": "python3"
  },
  "language_info": {
   "codemirror_mode": {
    "name": "ipython",
    "version": 3
   },
   "file_extension": ".py",
   "mimetype": "text/x-python",
   "name": "python",
   "nbconvert_exporter": "python",
   "pygments_lexer": "ipython3",
   "version": "3.6.8"
  }
 },
 "nbformat": 4,
 "nbformat_minor": 2
}
